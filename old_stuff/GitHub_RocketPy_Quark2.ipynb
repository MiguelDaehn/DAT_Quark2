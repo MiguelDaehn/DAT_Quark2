{
  "cells": [
    {
      "cell_type": "markdown",
      "metadata": {
        "id": "nvAT8wcRNVEk"
      },
      "source": [
        "# Getting Started - RocketPy in Colab\n"
      ]
    },
    {
      "cell_type": "markdown",
      "metadata": {
        "id": "8gCWjpEyPNp1"
      },
      "source": [
        "We start by setting up our environment. To run this notebook, we will need:\n",
        "\n",
        "- RocketPy\n",
        "- Data files (we will download RocketPy's data from github)\n",
        "\n",
        "Therefore, let's run the following lines of code:"
      ]
    },
    {
      "cell_type": "code",
      "execution_count": null,
      "metadata": {
        "id": "zwDDabtpNc6Z",
        "colab": {
          "base_uri": "https://localhost:8080/"
        },
        "outputId": "f85757bc-d112-4309-cf59-bec3f704ac13"
      },
      "outputs": [
        {
          "output_type": "stream",
          "name": "stdout",
          "text": [
            "Collecting rocketpy\n",
            "  Downloading rocketpy-1.10.0-py3-none-any.whl.metadata (18 kB)\n",
            "Requirement already satisfied: numpy>=1.13 in /usr/local/lib/python3.12/dist-packages (from rocketpy) (2.0.2)\n",
            "Requirement already satisfied: scipy>=1.0 in /usr/local/lib/python3.12/dist-packages (from rocketpy) (1.16.1)\n",
            "Requirement already satisfied: matplotlib>=3.0 in /usr/local/lib/python3.12/dist-packages (from rocketpy) (3.10.0)\n",
            "Collecting netCDF4>=1.6.4 (from rocketpy)\n",
            "  Downloading netCDF4-1.7.2-cp312-cp312-manylinux_2_17_x86_64.manylinux2014_x86_64.whl.metadata (1.8 kB)\n",
            "Requirement already satisfied: requests in /usr/local/lib/python3.12/dist-packages (from rocketpy) (2.32.4)\n",
            "Requirement already satisfied: pytz in /usr/local/lib/python3.12/dist-packages (from rocketpy) (2025.2)\n",
            "Collecting simplekml (from rocketpy)\n",
            "  Downloading simplekml-1.3.6.tar.gz (52 kB)\n",
            "\u001b[2K     \u001b[90m━━━━━━━━━━━━━━━━━━━━━━━━━━━━━━━━━━━━━━━\u001b[0m \u001b[32m53.0/53.0 kB\u001b[0m \u001b[31m453.0 kB/s\u001b[0m eta \u001b[36m0:00:00\u001b[0m\n",
            "\u001b[?25h  Preparing metadata (setup.py) ... \u001b[?25l\u001b[?25hdone\n",
            "Requirement already satisfied: dill in /usr/local/lib/python3.12/dist-packages (from rocketpy) (0.3.8)\n",
            "Requirement already satisfied: contourpy>=1.0.1 in /usr/local/lib/python3.12/dist-packages (from matplotlib>=3.0->rocketpy) (1.3.3)\n",
            "Requirement already satisfied: cycler>=0.10 in /usr/local/lib/python3.12/dist-packages (from matplotlib>=3.0->rocketpy) (0.12.1)\n",
            "Requirement already satisfied: fonttools>=4.22.0 in /usr/local/lib/python3.12/dist-packages (from matplotlib>=3.0->rocketpy) (4.59.1)\n",
            "Requirement already satisfied: kiwisolver>=1.3.1 in /usr/local/lib/python3.12/dist-packages (from matplotlib>=3.0->rocketpy) (1.4.9)\n",
            "Requirement already satisfied: packaging>=20.0 in /usr/local/lib/python3.12/dist-packages (from matplotlib>=3.0->rocketpy) (25.0)\n",
            "Requirement already satisfied: pillow>=8 in /usr/local/lib/python3.12/dist-packages (from matplotlib>=3.0->rocketpy) (11.3.0)\n",
            "Requirement already satisfied: pyparsing>=2.3.1 in /usr/local/lib/python3.12/dist-packages (from matplotlib>=3.0->rocketpy) (3.2.3)\n",
            "Requirement already satisfied: python-dateutil>=2.7 in /usr/local/lib/python3.12/dist-packages (from matplotlib>=3.0->rocketpy) (2.9.0.post0)\n",
            "Collecting cftime (from netCDF4>=1.6.4->rocketpy)\n",
            "  Downloading cftime-1.6.4.post1-cp312-cp312-manylinux_2_17_x86_64.manylinux2014_x86_64.whl.metadata (8.7 kB)\n",
            "Requirement already satisfied: certifi in /usr/local/lib/python3.12/dist-packages (from netCDF4>=1.6.4->rocketpy) (2025.8.3)\n",
            "Requirement already satisfied: charset_normalizer<4,>=2 in /usr/local/lib/python3.12/dist-packages (from requests->rocketpy) (3.4.3)\n",
            "Requirement already satisfied: idna<4,>=2.5 in /usr/local/lib/python3.12/dist-packages (from requests->rocketpy) (3.10)\n",
            "Requirement already satisfied: urllib3<3,>=1.21.1 in /usr/local/lib/python3.12/dist-packages (from requests->rocketpy) (2.5.0)\n",
            "Requirement already satisfied: six>=1.5 in /usr/local/lib/python3.12/dist-packages (from python-dateutil>=2.7->matplotlib>=3.0->rocketpy) (1.17.0)\n",
            "Downloading rocketpy-1.10.0-py3-none-any.whl (372 kB)\n",
            "\u001b[2K   \u001b[90m━━━━━━━━━━━━━━━━━━━━━━━━━━━━━━━━━━━━━━━━\u001b[0m \u001b[32m372.5/372.5 kB\u001b[0m \u001b[31m1.8 MB/s\u001b[0m eta \u001b[36m0:00:00\u001b[0m\n",
            "\u001b[?25hDownloading netCDF4-1.7.2-cp312-cp312-manylinux_2_17_x86_64.manylinux2014_x86_64.whl (9.3 MB)\n",
            "\u001b[2K   \u001b[90m━━━━━━━━━━━━━━━━━━━━━━━━━━━━━━━━━━━━━━━━\u001b[0m \u001b[32m9.3/9.3 MB\u001b[0m \u001b[31m22.9 MB/s\u001b[0m eta \u001b[36m0:00:00\u001b[0m\n",
            "\u001b[?25hDownloading cftime-1.6.4.post1-cp312-cp312-manylinux_2_17_x86_64.manylinux2014_x86_64.whl (1.4 MB)\n",
            "\u001b[2K   \u001b[90m━━━━━━━━━━━━━━━━━━━━━━━━━━━━━━━━━━━━━━━━\u001b[0m \u001b[32m1.4/1.4 MB\u001b[0m \u001b[31m52.5 MB/s\u001b[0m eta \u001b[36m0:00:00\u001b[0m\n",
            "\u001b[?25hBuilding wheels for collected packages: simplekml\n",
            "  Building wheel for simplekml (setup.py) ... \u001b[?25l\u001b[?25hdone\n",
            "  Created wheel for simplekml: filename=simplekml-1.3.6-py3-none-any.whl size=65860 sha256=7b8624415fb58c12fd8f5143d8932e081f6290bf1edfd99c00a2eb60aa65c4ec\n",
            "  Stored in directory: /root/.cache/pip/wheels/83/ee/f2/65cecfd948f1429ead035fd6d56bc6bd6574a636ddc4d65cbd\n",
            "Successfully built simplekml\n",
            "Installing collected packages: simplekml, cftime, netCDF4, rocketpy\n",
            "Successfully installed cftime-1.6.4.post1 netCDF4-1.7.2 rocketpy-1.10.0 simplekml-1.3.6\n",
            "  % Total    % Received % Xferd  Average Speed   Time    Time     Time  Current\n",
            "                                 Dload  Upload   Total   Spent    Left  Speed\n",
            "100  1052  100  1052    0     0   2131      0 --:--:-- --:--:-- --:--:--  2129\n",
            "  % Total    % Received % Xferd  Average Speed   Time    Time     Time  Current\n",
            "                                 Dload  Upload   Total   Spent    Left  Speed\n",
            "100   163  100   163    0     0    333      0 --:--:-- --:--:-- --:--:--   333\n",
            "  % Total    % Received % Xferd  Average Speed   Time    Time     Time  Current\n",
            "                                 Dload  Upload   Total   Spent    Left  Speed\n",
            "100  3362  100  3362    0     0   6253      0 --:--:-- --:--:-- --:--:--  6260\n",
            "  % Total    % Received % Xferd  Average Speed   Time    Time     Time  Current\n",
            "                                 Dload  Upload   Total   Spent    Left  Speed\n",
            "100  3362  100  3362    0     0   6269      0 --:--:-- --:--:-- --:--:--  6260\n"
          ]
        }
      ],
      "source": [
        "!pip install rocketpy\n",
        "!curl -o NACA0012-radians.txt https://raw.githubusercontent.com/RocketPy-Team/RocketPy/master/data/airfoils/NACA0012-radians.txt\n",
        "!curl -o Cesaroni_M1670.eng https://raw.githubusercontent.com/RocketPy-Team/RocketPy/master/data/motors/cesaroni/Cesaroni_M1670.eng\n",
        "!curl -o powerOffDragCurve.csv https://raw.githubusercontent.com/RocketPy-Team/RocketPy/master/data/rockets/calisto/powerOffDragCurve.csv\n",
        "!curl -o powerOnDragCurve.csv https://raw.githubusercontent.com/RocketPy-Team/RocketPy/master/data/rockets/calisto/powerOnDragCurve.csv"
      ]
    },
    {
      "cell_type": "markdown",
      "metadata": {
        "id": "55zcnvqdNVEo"
      },
      "source": [
        "Now we can start!\n",
        "\n",
        "Here we go through a simplified rocket trajectory simulation to get you started. Let's start by importing the rocketpy module.\n"
      ]
    },
    {
      "cell_type": "code",
      "execution_count": null,
      "metadata": {
        "id": "XGK9M8ecNVEp"
      },
      "outputs": [],
      "source": [
        "from rocketpy import Environment, Flight, Rocket, SolidMotor"
      ]
    },
    {
      "cell_type": "markdown",
      "metadata": {
        "id": "ImgkhEkZNVE8"
      },
      "source": [
        "It is recommended to run the following line to make matplotlib plots which will be shown later interactive and higher quality.\n"
      ]
    },
    {
      "cell_type": "code",
      "execution_count": null,
      "metadata": {
        "id": "uRa566HoNVE9"
      },
      "outputs": [],
      "source": [
        "%config InlineBackend.figure_formats = ['svg']\n",
        "%matplotlib inline"
      ]
    },
    {
      "cell_type": "markdown",
      "metadata": {
        "id": "sSeqramENVFB"
      },
      "source": [
        "## Setting Up a Simulation\n"
      ]
    },
    {
      "cell_type": "markdown",
      "metadata": {
        "id": "Vm4ZHAnnNVFC"
      },
      "source": [
        "### Creating an Environment for Spaceport America\n"
      ]
    },
    {
      "cell_type": "markdown",
      "metadata": {
        "id": "FOgcKZL4d4DC"
      },
      "source": [
        "\n",
        "The `Environment` class is used to define the atmosphere, the winds, and the gravity models.\n",
        "\n",
        "You can find more information about the `Environment` class in the [Environment Class Usage Docs](https://docs.rocketpy.org/en/latest/notebooks/environment/environment_class_usage.html)."
      ]
    },
    {
      "cell_type": "code",
      "execution_count": null,
      "metadata": {
        "id": "d7mooAZONVFD"
      },
      "outputs": [],
      "source": [
        "env = Environment(latitude=-21.890000, longitude=-49.030000, elevation=422)  #Cidade de Lacanga, São Paulo"
      ]
    },
    {
      "cell_type": "markdown",
      "metadata": {
        "id": "Fz8Ha6usNVFH"
      },
      "source": [
        "To get weather data from the GFS forecast, available online, we run the following lines.\n",
        "\n",
        "First, we set tomorrow's date.\n"
      ]
    },
    {
      "cell_type": "code",
      "execution_count": null,
      "metadata": {
        "id": "5kl-Je8dNVFI"
      },
      "outputs": [],
      "source": [
        "import datetime\n",
        "\n",
        "tomorrow = datetime.date.today() + datetime.timedelta(days=1)\n",
        "\n",
        "env.set_date(\n",
        "    (tomorrow.year, tomorrow.month, tomorrow.day, 12)\n",
        ")  # Hour given in UTC time"
      ]
    },
    {
      "cell_type": "markdown",
      "metadata": {
        "id": "or5MLF9gNVFM"
      },
      "source": [
        "Then, we tell env to use a GFS forecast to get the atmospheric conditions for flight.\n",
        "\n",
        "Don't mind the warning, it just means that not all variables, such as wind speed or atmospheric temperature, are available at all altitudes given by the forecast.\n"
      ]
    },
    {
      "cell_type": "code",
      "execution_count": null,
      "metadata": {
        "id": "g73fa7DWNVFN"
      },
      "outputs": [],
      "source": [
        "env.set_atmospheric_model(type=\"Forecast\", file=\"GFS\")"
      ]
    },
    {
      "cell_type": "markdown",
      "metadata": {
        "id": "wSnZQuRYNVFS"
      },
      "source": [
        "We can see what the weather will look like by calling the info method!\n"
      ]
    },
    {
      "cell_type": "code",
      "execution_count": null,
      "metadata": {
        "id": "H_AMjVTjNVFT",
        "colab": {
          "base_uri": "https://localhost:8080/"
        },
        "outputId": "74c45dfe-09b3-4e9c-b464-9bd0439dbcf1"
      },
      "outputs": [
        {
          "output_type": "stream",
          "name": "stdout",
          "text": [
            "\n",
            "Gravity Details\n",
            "\n",
            "Acceleration of gravity at surface level:    9.7861 m/s²\n",
            "Acceleration of gravity at  79.344 km (ASL): 9.5471 m/s²\n",
            "\n",
            "\n",
            "Launch Site Details\n",
            "\n",
            "Launch Date: 2025-08-24 12:00:00 UTC\n",
            "Launch Site Latitude: -21.89000°\n",
            "Launch Site Longitude: -49.03000°\n",
            "Reference Datum: SIRGAS2000\n",
            "Launch Site UTM coordinates: 83450.27 W    7573880.53 S\n",
            "Launch Site UTM zone: 23K\n",
            "Launch Site Surface Elevation: 466.8 m\n",
            "\n",
            "\n",
            "Atmospheric Model Details\n",
            "\n",
            "Atmospheric Model Type: Forecast\n",
            "Forecast Maximum Height: 79.344 km\n",
            "Forecast Time Period: from 2025-08-23 06:00:00 to 2025-09-08 06:00:00 utc\n",
            "Forecast Hour Interval: 3 hrs\n",
            "Forecast Latitude Range: From -90.0° to 90.0°\n",
            "Forecast Longitude Range: From 0.0° to 359.75°\n",
            "\n",
            "Surface Atmospheric Conditions\n",
            "\n",
            "Surface Wind Speed: 2.90 m/s\n",
            "Surface Wind Direction: 153.45°\n",
            "Surface Wind Heading: 333.45°\n",
            "Surface Pressure: 964.60 hPa\n",
            "Surface Temperature: 295.14 K\n",
            "Surface Air Density: 1.139 kg/m³\n",
            "Surface Speed of Sound: 344.40 m/s\n",
            "\n",
            "\n",
            "Earth Model Details\n",
            "\n",
            "Earth Radius at Launch site: 6375.19 km\n",
            "Semi-major Axis: 6378.14 km\n",
            "Semi-minor Axis: 6356.75 km\n",
            "Flattening: 0.0034\n",
            "\n",
            "\n",
            "Atmospheric Model Plots\n",
            "\n"
          ]
        }
      ],
      "source": [
        "env.info()"
      ]
    },
    {
      "cell_type": "markdown",
      "metadata": {
        "id": "Aksbs-pMNVFW"
      },
      "source": [
        "### Creating a Motor\n",
        "\n",
        "A solid rocket motor is used in this case. To create a motor, the SolidMotor class is used and the required arguments are given.\n",
        "\n",
        "The SolidMotor class requires the user to have a thrust curve ready. This can come either from a .eng file for a commercial motor, such as below, or a .csv file from a static test measurement.\n",
        "\n",
        "Besides the thrust curve, other parameters such as grain properties and nozzle dimensions must also be given.\n",
        "\n",
        "See [Solid Motor Class Usage Docs](https://docs.rocketpy.org/en/latest/user/motors/solidmotor.html) for more information.\n"
      ]
    },
    {
      "cell_type": "code",
      "execution_count": null,
      "metadata": {
        "id": "Vx1dZObwNVFX"
      },
      "outputs": [],
      "source": [
        "Serena = SolidMotor(\n",
        "    thrust_source=\"Q2_04.eng\",  # Caminho do arquivo .eng\n",
        "    dry_mass= 0.58684,  # kg - massa do motor sem propelente\n",
        "    dry_inertia= (0.00741858, 0.00741858, 0.00026227), # kg·m² - momento de inércia do motor sem propelente (eixos I, I, Z)\n",
        "    nozzle_radius= 24.5 / 1000,  # m - raio da saída do bocal (x mm)\n",
        "    grain_number= 4,  # número de grãos de propelente\n",
        "    grain_density= 1000.748 ,  # kg/m³ - densidade do propelente\n",
        "    grain_outer_radius= 30 / 1000,  # m - raio externo do grão (x mm)\n",
        "    grain_initial_inner_radius= 17 / 1000,  # m - raio interno inicial (oco) do grão (x mm)\n",
        "    grain_initial_height= 50 / 1000,  # m - altura de cada grão (x mm)\n",
        "    grain_separation= 3.23 / 1000,  # m - espaço entre os grãos (x mm)\n",
        "    grains_center_of_mass_position= 0.1045,  # m - posição do centro de massa dos grãos\n",
        "    center_of_dry_mass_position= 0.175,  # m - posição do CM do motor sem propelente\n",
        "    nozzle_position=0,\n",
        "    burn_time = 1.23,\n",
        "    throat_radius= 9.5 / 1000,  # m - raio da garganta do bocal (x mm)\n",
        "    coordinate_system_orientation=\"nozzle_to_combustion_chamber\",\n",
        ")"
      ]
    },
    {
      "cell_type": "markdown",
      "metadata": {
        "id": "E1LJDIa0NVFa"
      },
      "source": [
        "**Pay special attention to *position* related parameters:**\n",
        "More details on [Positions and Coordinate Systems](https://docs.rocketpy.org/en/latest/user/positions.html)\n"
      ]
    },
    {
      "cell_type": "markdown",
      "metadata": {
        "id": "mLGjRzXJd4DE"
      },
      "source": [
        "To see what our thrust curve looks like, along with other import properties, we invoke the info method yet again. You may try the all_info method if you want more information all at once!\n"
      ]
    },
    {
      "cell_type": "code",
      "execution_count": null,
      "metadata": {
        "id": "vjyPT7GVNVFb"
      },
      "outputs": [],
      "source": [
        "Serena.info()"
      ]
    },
    {
      "cell_type": "markdown",
      "metadata": {
        "id": "kN7y1EwLNVFf"
      },
      "source": [
        "### Creating a Rocket\n"
      ]
    },
    {
      "cell_type": "markdown",
      "metadata": {
        "id": "_Ee-0vb5NVFg"
      },
      "source": [
        "A rocket is composed of several components. Namely, we must have a motor (good thing we have the Pro75M1670 ready), a couple of aerodynamic surfaces (nose cone, fins and tail) and parachutes (if we are not launching a missile).\n",
        "\n",
        "You can find more information about the `Rocket` class in the [Rocket Class Usage Docs](https://docs.rocketpy.org/en/latest/user/rocket.html).\n",
        "\n",
        "Let's start by initializing our rocket, named Calisto, entering inertia properties, some dimensions and drag curves.\n",
        "\n",
        "**Pay special attention to *position* related parameters:**\n",
        "More details on [Positions and Coordinate Systems](https://docs.rocketpy.org/en/latest/user/positions.html)\n",
        "\n"
      ]
    },
    {
      "cell_type": "code",
      "execution_count": null,
      "metadata": {
        "id": "D1fyK8u_NVFh"
      },
      "outputs": [],
      "source": [
        "calisto = Rocket(\n",
        "    radius=0.039,\n",
        "    mass=2.222,\n",
        "    inertia=(0.00462543, 0.11515348, 0.11516779),\n",
        "    power_off_drag=\"Quark2powerOffDragCurve.csv\",\n",
        "    power_on_drag=\"Quark2powerOnDragCurve.csv\",\n",
        "    center_of_mass_without_motor=0.42,\n",
        "    coordinate_system_orientation=\"nose_to_tail\",\n",
        ")\n",
        "\n",
        "rail_buttons = calisto.set_rail_buttons(\n",
        "    upper_button_position=0.33,\n",
        "    lower_button_position=0.637,\n",
        "    angular_position=45,\n",
        ")"
      ]
    },
    {
      "cell_type": "markdown",
      "metadata": {
        "id": "5u0xBbgod4DF"
      },
      "source": [
        "To add the motor to our rocket we need only inform what motor we are adding (Pro75M1670) and inform the position, in meters, of the motor's nozzle exit area relative to the previously defined coordinate system.\n"
      ]
    },
    {
      "cell_type": "code",
      "execution_count": null,
      "metadata": {
        "id": "kizfVpdwd4DF"
      },
      "outputs": [],
      "source": [
        "calisto.add_motor(Serena, position=0.896)"
      ]
    },
    {
      "cell_type": "markdown",
      "metadata": {
        "id": "CfOfqmroNVFk"
      },
      "source": [
        "#### Adding Aerodynamic Surfaces\n"
      ]
    },
    {
      "cell_type": "markdown",
      "metadata": {
        "id": "LuUdEmWhNVFl"
      },
      "source": [
        "Now we define the aerodynamic surfaces. They are really straight forward with special attention needed only for the position values. Here is a quick guide:\n",
        "\n",
        "- The positions given **must** be relative to the same coordinate system as the rockets;\n",
        "- Position of the Nosecone refers to the tip of the nose;\n",
        "- Position of fins refers to the point belonging to the root chord which is highest in the rocket coordinate system;\n",
        "- Position of the tail the point belonging to the tail which is highest in the rocket coordinate system.\n",
        "\n",
        "See more details in [Positions and Coordinate Systems](https://docs.rocketpy.org/en/latest/user/positions.html)"
      ]
    },
    {
      "cell_type": "code",
      "execution_count": null,
      "metadata": {
        "id": "AQbv244VNVFm"
      },
      "outputs": [],
      "source": [
        "nose_cone = calisto.add_nose(length=0.120, kind=\"elliptical\", position=-0.1)\n",
        "\n",
        "fin_set = calisto.add_trapezoidal_fins(\n",
        "    n=4,\n",
        "    root_chord=0.110,\n",
        "    tip_chord=0.080,\n",
        "    span=0.120,\n",
        "    position=0.728,\n",
        "    cant_angle=20,\n",
        "    airfoil=(\"NACA0012-radians.txt\", \"radians\"),\n",
        ")\n",
        "\n",
        "tail = calisto.add_tail(\n",
        "    top_radius=0.039, bottom_radius=0.0275, length=0.058, position=0.831\n",
        ")"
      ]
    },
    {
      "cell_type": "markdown",
      "metadata": {
        "id": "ZPomdKdwd4DF"
      },
      "source": [
        "To see all information regarding the rocket we just defined we run:\n"
      ]
    },
    {
      "cell_type": "code",
      "execution_count": null,
      "metadata": {
        "id": "4O2Zb5pfd4DF"
      },
      "outputs": [],
      "source": [
        "calisto.all_info()"
      ]
    },
    {
      "cell_type": "markdown",
      "metadata": {
        "id": "D8oKc7s2NVFp"
      },
      "source": [
        "#### Adding Parachutes\n"
      ]
    },
    {
      "cell_type": "markdown",
      "metadata": {
        "id": "IxAX61ZENVFq"
      },
      "source": [
        "Finally, we have parachutes! Calisto will have two parachutes, Drogue and Main. The Drogue parachute will open at apogee while the Main parachute will open at 800m above ground level\n",
        "\n",
        "For more details see [Adding Parachutes](https://docs.rocketpy.org/en/latest/user/rocket.html#adding-parachutes)"
      ]
    },
    {
      "cell_type": "code",
      "execution_count": null,
      "metadata": {
        "id": "f0PmLcF8NVFr"
      },
      "outputs": [],
      "source": [
        "Main = calisto.add_parachute(\n",
        "    \"Main\",\n",
        "    cd_s=2.020,\n",
        "    trigger=800,\n",
        "    sampling_rate=105,\n",
        "    lag=1.5,\n",
        "    noise=(0, 8.3, 0.5),\n",
        ")\n",
        "\n",
        "Drogue = calisto.add_parachute(\n",
        "    \"Drogue\",\n",
        "    cd_s=1.0,\n",
        "    trigger=\"apogee\",\n",
        "    sampling_rate=105,\n",
        "    lag=1.5,\n",
        "    noise=(0, 8.3, 0.5),\n",
        ")\n",
        "\n"
      ]
    },
    {
      "cell_type": "markdown",
      "metadata": {
        "id": "xIoXe33FNVFv"
      },
      "source": [
        "Just be careful if you run this last cell multiple times! If you do so, your rocket will end up with lots of parachutes which activate together, which may cause problems during the flight simulation. We advise you to re-run all cells which define our rocket before running this, preventing unwanted old parachutes. Alternatively, you can run the following lines to remove parachutes.\n",
        "\n",
        "```python\n",
        "Calisto.parachutes.remove(Drogue)\n",
        "Calisto.parachutes.remove(Main)\n",
        "```\n"
      ]
    },
    {
      "cell_type": "markdown",
      "metadata": {
        "id": "4PR0fgSbNVFw"
      },
      "source": [
        "## Simulating a Flight\n",
        "\n",
        "Simulating a flight trajectory is as simple as initializing a Flight class object givin the rocket and environnement set up above as inputs. The launch rail inclination and heading are also given here.\n"
      ]
    },
    {
      "cell_type": "code",
      "execution_count": null,
      "metadata": {
        "id": "v__Ud2p2NVFx"
      },
      "outputs": [],
      "source": [
        "test_flight = Flight(\n",
        "    rocket=calisto, environment=env, rail_length=5.2, inclination=85, heading=0\n",
        ")"
      ]
    },
    {
      "cell_type": "markdown",
      "metadata": {
        "id": "8SjrGQqzNVF0"
      },
      "source": [
        "## Analyzing the Results\n",
        "\n",
        "RocketPy gives you many plots, thats for sure! They are divided into sections to keep them organized. Alternatively, see the Flight class documentation to see how to get plots for specific variables only, instead of all of them at once.\n"
      ]
    },
    {
      "cell_type": "code",
      "execution_count": null,
      "metadata": {
        "id": "Hh4A_RQzNVF0",
        "scrolled": false
      },
      "outputs": [],
      "source": [
        "test_flight.all_info()\n",
        "# Plot altitude ASL\n",
        "test_flight.plot(quantities=['altitude'])"
      ]
    },
    {
      "cell_type": "markdown",
      "metadata": {
        "id": "im1YD1Pjd4DR"
      },
      "source": [
        "Export Flight Trajectory to a .kml file so it can be opened on Google Earth\n"
      ]
    },
    {
      "cell_type": "code",
      "execution_count": null,
      "metadata": {
        "id": "7DtVMHjnd4DR"
      },
      "outputs": [],
      "source": [
        "test_flight.export_kml(\n",
        "    file_name=\"trajectory.kml\",\n",
        "    extrude=True,\n",
        "    altitude_mode=\"relative_to_ground\",\n",
        ")"
      ]
    },
    {
      "cell_type": "markdown",
      "metadata": {
        "id": "Aun9D2OINVF4"
      },
      "source": [
        "## Using Simulation for Design\n",
        "\n",
        "Here, we go through a couple of examples which make use of RocketPy in cool ways to help us design our rocket.\n"
      ]
    },
    {
      "cell_type": "markdown",
      "metadata": {
        "id": "Z_xphlWtd4DS"
      },
      "source": [
        "### Apogee as a Function of Mass\n",
        "\n",
        "This one is a classic one! We always need to know how much our rocket's apogee will change when our payload gets heavier.\n"
      ]
    },
    {
      "cell_type": "code",
      "execution_count": null,
      "metadata": {
        "id": "TFDFYp_-d4DS"
      },
      "outputs": [],
      "source": [
        "from rocketpy.utilities import apogee_by_mass\n",
        "\n",
        "apogee_by_mass(flight=test_flight, min_mass=5, max_mass=20, points=10, plot=True)"
      ]
    },
    {
      "cell_type": "markdown",
      "metadata": {
        "id": "1qixGra9d4DS"
      },
      "source": [
        "### Out of Rail Speed as a Function of Mass\n",
        "\n",
        "Lets make a really important plot. Out of rail speed is the speed our rocket has when it is leaving the launch rail. This is crucial to make sure it can fly safely after leaving the rail. A common rule of thumb is that our rocket's out of rail speed should be 4 times the wind speed so that it does not stall and become unstable.\n"
      ]
    },
    {
      "cell_type": "code",
      "execution_count": null,
      "metadata": {
        "id": "JSzBJE_7d4DS"
      },
      "outputs": [],
      "source": [
        "from rocketpy.utilities import liftoff_speed_by_mass\n",
        "\n",
        "liftoff_speed_by_mass(flight=test_flight, min_mass=5, max_mass=20, points=10, plot=True)"
      ]
    },
    {
      "cell_type": "markdown",
      "metadata": {
        "id": "OpUKpdH0d4DS"
      },
      "source": [
        "### Dynamic Stability Analysis\n",
        "\n",
        "Ever wondered how static stability translates into dynamic stability? Different static margins result in different dynamic behavior, which also depends on the rocket's rotational inertial.\n",
        "\n",
        "Let's make use of RocketPy's helper class called Function to explore how the dynamic stability of Calisto varies if we change the fins span by a certain factor.\n"
      ]
    },
    {
      "cell_type": "markdown",
      "metadata": {
        "id": "subAQUKqd4DS"
      },
      "source": [
        "### Characteristic Frequency Calculation\n",
        "\n",
        "Here we analyse the characteristic frequency of oscillation of our rocket just as it leaves the launch rail. Note that when we ran test_flight.all_info(), one of the plots already showed us the frequency spectrum of our flight. Here, however, we have more control of what we are plotting.\n"
      ]
    }
  ],
  "metadata": {
    "colab": {
      "provenance": []
    },
    "hide_input": false,
    "kernelspec": {
      "display_name": ".venv12",
      "language": "python",
      "name": "python3"
    },
    "language_info": {
      "codemirror_mode": {
        "name": "ipython",
        "version": 3
      },
      "file_extension": ".py",
      "mimetype": "text/x-python",
      "name": "python",
      "nbconvert_exporter": "python",
      "pygments_lexer": "ipython3",
      "version": "3.12.4"
    }
  },
  "nbformat": 4,
  "nbformat_minor": 0
}