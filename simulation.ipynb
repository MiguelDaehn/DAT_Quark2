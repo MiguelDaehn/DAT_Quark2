{
 "cells": [
  {
   "cell_type": "markdown",
   "id": "0de29759",
   "metadata": {},
   "source": [
    "# RocketPy Simulation\n",
    "This notebook was generated using Rocket-Serializer, a RocketPy tool to convert simulation files to RocketPy simulations\n",
    "The notebook was generated using the following parameters file: `./parameters.json`\n"
   ]
  },
  {
   "cell_type": "code",
   "execution_count": null,
   "id": "ac7ee1aa",
   "metadata": {},
   "outputs": [],
   "source": [
    "%pip install rocketpy<=2.0\n"
   ]
  },
  {
   "cell_type": "code",
   "execution_count": null,
   "id": "b6bab727",
   "metadata": {},
   "outputs": [],
   "source": [
    "from rocketpy import Environment, SolidMotor, Rocket, Flight, TrapezoidalFins, EllipticalFins, RailButtons, NoseCone, Tail, Parachute\n",
    "import datetime\n"
   ]
  },
  {
   "cell_type": "markdown",
   "id": "44e11061",
   "metadata": {},
   "source": [
    "## Environment\n"
   ]
  },
  {
   "cell_type": "code",
   "execution_count": null,
   "id": "071b2869",
   "metadata": {},
   "outputs": [],
   "source": [
    "env = Environment()\n",
    "env.set_location(latitude=28.61, longitude=-80.6)\n",
    "env.set_elevation(0.0)\n"
   ]
  },
  {
   "cell_type": "markdown",
   "id": "3cc51580",
   "metadata": {},
   "source": [
    "Optionally, you can set the date and atmospheric model\n"
   ]
  },
  {
   "cell_type": "code",
   "execution_count": null,
   "id": "09e371d5",
   "metadata": {},
   "outputs": [],
   "source": [
    "tomorrow = datetime.date.today() + datetime.timedelta(days=1)\n",
    "env.set_date((tomorrow.year, tomorrow.month, tomorrow.day, 12))\n",
    "# env.set_atmospheric_model(type='Forecast', file='GFS')"
   ]
  },
  {
   "cell_type": "code",
   "execution_count": null,
   "id": "0d3ddb5e",
   "metadata": {},
   "outputs": [],
   "source": [
    "env.all_info()\n"
   ]
  },
  {
   "cell_type": "markdown",
   "id": "7795af6f",
   "metadata": {},
   "source": [
    "## Motor\n",
    "Currently, only Solid Motors are supported by Rocket-Serializer. If you want to use a Liquid/Hybrid motor, please use rocketpy directly.\n"
   ]
  },
  {
   "cell_type": "code",
   "execution_count": null,
   "id": "8b85f0e3",
   "metadata": {},
   "outputs": [],
   "source": [
    "motor = SolidMotor(\n",
    "    thrust_source='thrust_source.csv',\n",
    "    dry_mass=0,\n",
    "    center_of_dry_mass_position=0,\n",
    "    dry_inertia=[0, 0, 0],\n",
    "    grains_center_of_mass_position=0,\n",
    "    grain_number=1,\n",
    "    grain_density=1602.7222543265182,\n",
    "    grain_outer_radius=0.0225,\n",
    "    grain_initial_inner_radius=0.01125,\n",
    "    grain_initial_height=0.21080000000000002,\n",
    "    grain_separation=0,\n",
    "    nozzle_radius=0.016875,\n",
    "    nozzle_position=-0.10540000000000001,\n",
    "    throat_radius=0.01125,\n",
    "    reshape_thrust_curve=False,  # Not implemented in Rocket-Serializer\n",
    "    interpolation_method='linear',\n",
    "    coordinate_system_orientation='nozzle_to_combustion_chamber',\n",
    ")\n"
   ]
  },
  {
   "cell_type": "code",
   "execution_count": null,
   "id": "4df7336e",
   "metadata": {},
   "outputs": [],
   "source": [
    "motor.all_info()\n"
   ]
  },
  {
   "cell_type": "markdown",
   "id": "1009b5fa",
   "metadata": {},
   "source": [
    "## Rocket\n",
    "Currently, only single stage rockets are supported by Rocket-Serializer\n",
    "We will start by defining the aerodynamic surfaces, and then build the rocket.\n"
   ]
  },
  {
   "cell_type": "markdown",
   "id": "5d4570ba",
   "metadata": {},
   "source": [
    "### Nosecones\n"
   ]
  },
  {
   "cell_type": "code",
   "execution_count": null,
   "id": "9c34ac01",
   "metadata": {},
   "outputs": [],
   "source": [
    "nosecone = NoseCone(\n",
    "    length=0.12000000000000005,\n",
    "    kind='ellipsoid',\n",
    "    base_radius=0.039,\n",
    "    rocket_radius=0.039,\n",
    "    name='0.12000000000000005',\n",
    ")\n"
   ]
  },
  {
   "cell_type": "markdown",
   "id": "a4ebd711",
   "metadata": {},
   "source": [
    "### Fins\n",
    "As rocketpy allows for multiple fins sets, we will create a dictionary with all the fins sets and then add them to the rocket\n"
   ]
  },
  {
   "cell_type": "code",
   "execution_count": null,
   "id": "85063969",
   "metadata": {},
   "outputs": [],
   "source": [
    "trapezoidal_fins = {}\n"
   ]
  },
  {
   "cell_type": "code",
   "execution_count": null,
   "id": "09e27345",
   "metadata": {},
   "outputs": [],
   "source": [
    "trapezoidal_fins[0] = TrapezoidalFins(\n",
    "    n=4,\n",
    "    root_chord=0.11,\n",
    "    tip_chord=0.08,\n",
    "    span=0.12,\n",
    "    cant_angle=0.0,\n",
    "    sweep_length= 0.014946790123942073,\n",
    "    sweep_angle= None,\n",
    "    rocket_radius=0.039,\n",
    "    name='Conjunto de aletas trapezoidais',\n",
    ")\n",
    "\n"
   ]
  },
  {
   "cell_type": "markdown",
   "id": "4a787eff",
   "metadata": {},
   "source": [
    "### Transitions (Tails)\n",
    "As rocketpy allows for multiple tails, we will create a dictionary with all the tails and then add them to the rocket\n"
   ]
  },
  {
   "cell_type": "code",
   "execution_count": null,
   "id": "878ff609",
   "metadata": {},
   "outputs": [],
   "source": [
    "tails = {}\n"
   ]
  },
  {
   "cell_type": "code",
   "execution_count": null,
   "id": "3360115c",
   "metadata": {},
   "outputs": [],
   "source": [
    "tails[0] = Tail(\n",
    "    top_radius=0.039,\n",
    "    bottom_radius=0.0275,\n",
    "    length=0.05800000000000002,\n",
    "    rocket_radius=0.039,\n",
    "    name='Boattail',\n",
    ")\n"
   ]
  },
  {
   "cell_type": "markdown",
   "id": "8f9bc901",
   "metadata": {},
   "source": [
    "### Parachutes\n",
    "As rocketpy allows for multiple parachutes, we will create a dictionary with all the parachutes and then add them to the rocket\n"
   ]
  },
  {
   "cell_type": "code",
   "execution_count": null,
   "id": "9ddd201f",
   "metadata": {},
   "outputs": [],
   "source": [
    "parachutes = {}\n"
   ]
  },
  {
   "cell_type": "code",
   "execution_count": null,
   "id": "4777b418",
   "metadata": {},
   "outputs": [],
   "source": [
    "parachutes[0] = Parachute(\n",
    "    name='Paraquedas',\n",
    "    cd_s=0.777,\n",
    "    trigger='apogee',\n",
    "    sampling_rate=100, \n",
    ")\n"
   ]
  },
  {
   "cell_type": "code",
   "execution_count": null,
   "id": "f7486280",
   "metadata": {},
   "outputs": [],
   "source": [
    "rocket = Rocket(\n",
    "    radius=0.039,\n",
    "    mass=2.855,\n",
    "    inertia=[0.006, 0.006, 0.221],\n",
    "    power_off_drag='drag_curve.csv',\n",
    "    power_on_drag='drag_curve.csv',\n",
    "    center_of_mass_without_motor=0.586,\n",
    "    coordinate_system_orientation='nose_to_tail',\n",
    ")\n"
   ]
  },
  {
   "cell_type": "markdown",
   "id": "e44df3a9",
   "metadata": {},
   "source": [
    "### Adding surfaces to the rocket\n",
    "Now that we have all the surfaces, we can add them to the rocket\n"
   ]
  },
  {
   "cell_type": "code",
   "execution_count": null,
   "id": "310802ed",
   "metadata": {},
   "outputs": [],
   "source": [
    "rocket.add_surfaces(surfaces=[nosecone, trapezoidal_fins[0], tails[0]], positions=[0.0, 1.1920000000000002, 0.9580000000000001])"
   ]
  },
  {
   "cell_type": "code",
   "execution_count": null,
   "id": "5fbfcb40",
   "metadata": {},
   "outputs": [],
   "source": [
    "rocket.add_motor(motor, position= 0.8366153846153851)\n"
   ]
  },
  {
   "cell_type": "markdown",
   "id": "826fad67",
   "metadata": {},
   "source": [
    "Adding parachutes to the rocket\n"
   ]
  },
  {
   "cell_type": "code",
   "execution_count": null,
   "id": "c2724a56",
   "metadata": {},
   "outputs": [],
   "source": [
    "rocket.parachutes = list(parachutes.values())\n"
   ]
  },
  {
   "cell_type": "markdown",
   "id": "a66ac689",
   "metadata": {},
   "source": [
    "### Rail Buttons\n"
   ]
  },
  {
   "cell_type": "code",
   "execution_count": null,
   "id": "476f7ddf",
   "metadata": {},
   "outputs": [],
   "source": [
    "# No rail buttons were added to the rocket."
   ]
  },
  {
   "cell_type": "code",
   "execution_count": null,
   "id": "e0831442",
   "metadata": {},
   "outputs": [],
   "source": [
    "### Rocket Info\n",
    "rocket.all_info()\n"
   ]
  },
  {
   "cell_type": "markdown",
   "id": "5eb60cec",
   "metadata": {},
   "source": [
    "## Flight\n",
    "We will now create the flight simulation. Let's go!\n"
   ]
  },
  {
   "cell_type": "code",
   "execution_count": null,
   "id": "b16c41e4",
   "metadata": {},
   "outputs": [],
   "source": [
    "flight = Flight(\n",
    "    rocket=rocket,\n",
    "    environment=env,\n",
    "    rail_length=4.0,\n",
    "    inclination=80.0,\n",
    "    heading=90.0,\n",
    "    terminate_on_apogee=False,\n",
    "    max_time=600,\n",
    ")"
   ]
  },
  {
   "cell_type": "code",
   "execution_count": null,
   "id": "aac52896",
   "metadata": {},
   "outputs": [],
   "source": [
    "flight.all_info()\n"
   ]
  },
  {
   "cell_type": "markdown",
   "id": "55024c95",
   "metadata": {},
   "source": [
    "## Compare Results\n",
    "We will now compare the results of the simulation with the parameters used to create it. Let's go!\n"
   ]
  },
  {
   "cell_type": "code",
   "execution_count": null,
   "id": "e6b89988",
   "metadata": {},
   "outputs": [],
   "source": [
    "### OpenRocket vs RocketPy Parameters\n",
    "time_to_apogee_ork = 11.286\n",
    "time_to_apogee_rpy = flight.apogee_time\n",
    "print(f\"Time to apogee (OpenRocket): {time_to_apogee_ork:.3f} s\")\n",
    "print(f\"Time to apogee (RocketPy):   {time_to_apogee_rpy:.3f} s\")\n",
    "apogee_difference = time_to_apogee_rpy - time_to_apogee_ork\n",
    "error = abs((apogee_difference)/time_to_apogee_rpy)*100\n",
    "print(f\"Time to apogee difference:   {error:.3f} %\")\n",
    "print()\n",
    "\n",
    "flight_time_ork = 95.339\n",
    "flight_time_rpy = flight.t_final\n",
    "print(f\"Flight time (OpenRocket): {flight_time_ork:.3f} s\")\n",
    "print(f\"Flight time (RocketPy):   {flight_time_rpy:.3f} s\")\n",
    "flight_time_difference = flight_time_rpy - flight_time_ork\n",
    "error_flight_time = abs((flight_time_difference)/flight_time_rpy)*100\n",
    "print(f\"Flight time difference:   {error_flight_time:.3f} %\")\n",
    "print()\n",
    "\n",
    "ground_hit_velocity_ork = -7.652\n",
    "ground_hit_velocity_rpy = flight.impact_velocity\n",
    "print(f\"Ground hit velocity (OpenRocket): {ground_hit_velocity_ork:.3f} m/s\")\n",
    "print(f\"Ground hit velocity (RocketPy):   {ground_hit_velocity_rpy:.3f} m/s\")\n",
    "ground_hit_velocity_difference = ground_hit_velocity_rpy - ground_hit_velocity_ork\n",
    "error_ground_hit_velocity = abs((ground_hit_velocity_difference)/ground_hit_velocity_rpy)*100\n",
    "print(f\"Ground hit velocity difference:   {error_ground_hit_velocity:.3f} %\")\n",
    "print()\n",
    "\n",
    "launch_rod_velocity_ork = 34.117\n",
    "launch_rod_velocity_rpy = flight.out_of_rail_velocity\n",
    "print(f\"Launch rod velocity (OpenRocket): {launch_rod_velocity_ork:.3f} m/s\")\n",
    "print(f\"Launch rod velocity (RocketPy):   {launch_rod_velocity_rpy:.3f} m/s\")\n",
    "launch_rod_velocity_difference = launch_rod_velocity_rpy - launch_rod_velocity_ork\n",
    "error_launch_rod_velocity = abs((launch_rod_velocity_difference)/launch_rod_velocity_rpy)*100\n",
    "print(f\"Launch rod velocity difference:   {error_launch_rod_velocity:.3f} %\")\n",
    "print()\n",
    "\n",
    "max_acceleration_ork = 138.755\n",
    "max_acceleration_rpy = flight.max_acceleration\n",
    "print(f\"Max acceleration (OpenRocket): {max_acceleration_ork:.3f} m/s²\")\n",
    "print(f\"Max acceleration (RocketPy):   {max_acceleration_rpy:.3f} m/s²\")\n",
    "max_acceleration_difference = max_acceleration_rpy - max_acceleration_ork\n",
    "error_max_acceleration = abs((max_acceleration_difference)/max_acceleration_rpy)*100\n",
    "print(f\"Max acceleration difference:   {error_max_acceleration:.3f} %\")\n",
    "print()\n",
    "\n",
    "max_altitude_ork = 645.819\n",
    "max_altitude_rpy = flight.apogee - flight.env.elevation\n",
    "print(f\"Max altitude (OpenRocket): {max_altitude_ork:.3f} m\")\n",
    "print(f\"Max altitude (RocketPy):   {max_altitude_rpy:.3f} m\")\n",
    "max_altitude_difference = max_altitude_rpy - max_altitude_ork\n",
    "error_max_altitude = abs((max_altitude_difference)/max_altitude_rpy)*100\n",
    "print(f\"Max altitude difference:   {error_max_altitude:.3f} %\")\n",
    "print()\n",
    "\n",
    "max_mach_ork = 0.404\n",
    "max_mach_rpy = flight.max_mach_number \n",
    "print(f\"Max Mach (OpenRocket): {max_mach_ork:.3f}\")\n",
    "print(f\"Max Mach (RocketPy):   {max_mach_rpy:.3f}\")\n",
    "max_mach_difference = max_mach_rpy - max_mach_ork\n",
    "error_max_mach = abs((max_mach_difference)/max_mach_rpy)*100\n",
    "print(f\"Max Mach difference:   {error_max_mach:.3f} %\")\n",
    "print()\n",
    "\n",
    "max_velocity_ork = 133.379\n",
    "max_velocity_rpy = flight.max_speed\n",
    "print(f\"Max velocity (OpenRocket): {max_velocity_ork:.3f} m/s\")\n",
    "print(f\"Max velocity (RocketPy):   {max_velocity_rpy:.3f} m/s\")\n",
    "max_velocity_difference = max_velocity_rpy - max_velocity_ork\n",
    "error_max_velocity = abs((max_velocity_difference)/max_velocity_rpy)*100\n",
    "print(f\"Max velocity difference:   {error_max_velocity:.3f} %\")\n",
    "print()\n",
    "\n",
    "max_thrust_ork = 478.213\n",
    "max_thrust_rpy = flight.rocket.motor.thrust.max\n",
    "print(f\"Max thrust (OpenRocket): {max_thrust_ork:.3f} N\")\n",
    "print(f\"Max thrust (RocketPy):   {max_thrust_rpy:.3f} N\")\n",
    "max_thrust_difference = max_thrust_rpy - max_thrust_ork\n",
    "error_max_thrust = abs((max_thrust_difference)/max_thrust_rpy)*100\n",
    "print(f\"Max thrust difference:   {error_max_thrust:.3f} %\")\n",
    "print()\n",
    "\n",
    "burnout_stability_margin_ork = 1.681\n",
    "burnout_stability_margin_rpy = flight.stability_margin(flight.rocket.motor.burn_out_time)\n",
    "print(f\"Burnout stability margin (OpenRocket): {burnout_stability_margin_ork:.3f}\")\n",
    "print(f\"Burnout stability margin (RocketPy):   {burnout_stability_margin_rpy:.3f}\")\n",
    "burnout_stability_margin_difference = burnout_stability_margin_rpy - burnout_stability_margin_ork\n",
    "error_burnout_stability_margin = abs((burnout_stability_margin_difference)/burnout_stability_margin_rpy)*100\n",
    "print(f\"Burnout stability margin difference:   {error_burnout_stability_margin:.3f} %\")\n",
    "print()\n",
    "\n",
    "max_stability_margin_ork = 2.592\n",
    "max_stability_margin_rpy = flight.max_stability_margin\n",
    "print(f\"Max stability margin (OpenRocket): {max_stability_margin_ork:.3f}\")\n",
    "print(f\"Max stability margin (RocketPy):   {max_stability_margin_rpy:.3f}\")\n",
    "max_stability_margin_difference = max_stability_margin_rpy - max_stability_margin_ork\n",
    "error_max_stability_margin = abs((max_stability_margin_difference)/max_stability_margin_rpy)*100\n",
    "print(f\"Max stability margin difference:   {error_max_stability_margin:.3f} %\")\n",
    "print()\n",
    "\n",
    "min_stability_margin_ork = 1.421\n",
    "min_stability_margin_rpy = flight.min_stability_margin\n",
    "print(f\"Min stability margin (OpenRocket): {min_stability_margin_ork:.3f}\")\n",
    "print(f\"Min stability margin (RocketPy):   {min_stability_margin_rpy:.3f}\")\n",
    "min_stability_margin_difference = min_stability_margin_rpy - min_stability_margin_ork\n",
    "error_min_stability_margin = abs((min_stability_margin_difference)/min_stability_margin_rpy)*100\n",
    "print(f\"Min stability margin difference:   {error_min_stability_margin:.3f} %\")\n",
    "print()\n",
    "\n"
   ]
  }
 ],
 "metadata": {},
 "nbformat": 4,
 "nbformat_minor": 5
}
